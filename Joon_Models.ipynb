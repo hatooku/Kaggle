{
 "cells": [
  {
   "cell_type": "markdown",
   "metadata": {},
   "source": [
    "# Kaggle Sentiment Analysis Competition"
   ]
  },
  {
   "cell_type": "code",
   "execution_count": 35,
   "metadata": {
    "collapsed": false
   },
   "outputs": [
    {
     "data": {
      "text/plain": [
       "(4189, 1001)"
      ]
     },
     "execution_count": 35,
     "metadata": {},
     "output_type": "execute_result"
    }
   ],
   "source": [
    "# Playground\n",
    "data.shape"
   ]
  },
  {
   "cell_type": "code",
   "execution_count": 54,
   "metadata": {
    "collapsed": true
   },
   "outputs": [],
   "source": [
    "import numpy as np\n",
    "%matplotlib inline\n",
    "import matplotlib.pyplot as plt\n",
    "\n",
    "# Load training and test data (80/20 Split)\n",
    "data = np.loadtxt(\"training_data.txt\", delimiter=\"|\", skiprows=1)\n",
    "dataX = data[:, 0:-1]\n",
    "dataY = data[:, -1]\n",
    "training_size = int(data.shape[0] * 0.8)\n",
    "\n",
    "trainingX = data[0:training_size, 0:-1]\n",
    "trainingY = data[0:training_size, -1]\n",
    "\n",
    "testX = data[training_size:, 0:-1]\n",
    "testY = data[training_size:, -1]\n",
    "\n",
    "# For testing for submission\n",
    "\n",
    "test_data = np.loadtxt(\"testing_data.txt\", delimiter=\"|\", skiprows=1)"
   ]
  },
  {
   "cell_type": "markdown",
   "metadata": {},
   "source": [
    "# Ridge Regression"
   ]
  },
  {
   "cell_type": "code",
   "execution_count": 82,
   "metadata": {
    "collapsed": false
   },
   "outputs": [
    {
     "data": {
      "text/plain": [
       "RidgeClassifierCV(alphas=array([  1.00000e-01,   2.00000e-01, ...,   9.99800e+02,   9.99900e+02]),\n",
       "         class_weight=None, cv=None, fit_intercept=True, normalize=False,\n",
       "         scoring=None)"
      ]
     },
     "execution_count": 82,
     "metadata": {},
     "output_type": "execute_result"
    }
   ],
   "source": [
    "# Fit Model\n",
    "from sklearn.linear_model import RidgeClassifierCV\n",
    "\n",
    "# lambdas \n",
    "lambdas_arr = np.arange(0.1, 1000, 0.1)\n",
    "\n",
    "clf = RidgeClassifierCV(alphas=lambdas_arr)\n",
    "clf.fit(dataX, dataY)"
   ]
  },
  {
   "cell_type": "code",
   "execution_count": 98,
   "metadata": {
    "collapsed": false
   },
   "outputs": [
    {
     "name": "stdout",
     "output_type": "stream",
     "text": [
      "0.714115189496\n",
      "778.0\n"
     ]
    }
   ],
   "source": [
    "print clf.score(trainingX, trainingY)\n",
    "print clf.alpha_"
   ]
  },
  {
   "cell_type": "code",
   "execution_count": 99,
   "metadata": {
    "collapsed": true
   },
   "outputs": [],
   "source": [
    "# Ridge Prediction\n",
    "prediction = clf.predict(test_data)\n",
    "\n",
    "f = open(\"RidgeCV.csv\", \"w\")\n",
    "f.write(\"Id,Prediction\\n\")\n",
    "for x in range(len(prediction)):\n",
    "    f.write(str(x+1) + \",\" + str(int(prediction[x])) + \"\\n\")\n",
    "f.close()"
   ]
  },
  {
   "cell_type": "markdown",
   "metadata": {},
   "source": [
    "# AdaBoost"
   ]
  },
  {
   "cell_type": "code",
   "execution_count": 102,
   "metadata": {
    "collapsed": false
   },
   "outputs": [],
   "source": [
    "from sklearn.ensemble import AdaBoostClassifier"
   ]
  },
  {
   "cell_type": "code",
   "execution_count": null,
   "metadata": {
    "collapsed": true
   },
   "outputs": [],
   "source": []
  }
 ],
 "metadata": {
  "kernelspec": {
   "display_name": "Python 2",
   "language": "python",
   "name": "python2"
  },
  "language_info": {
   "codemirror_mode": {
    "name": "ipython",
    "version": 2
   },
   "file_extension": ".py",
   "mimetype": "text/x-python",
   "name": "python",
   "nbconvert_exporter": "python",
   "pygments_lexer": "ipython2",
   "version": "2.7.11"
  }
 },
 "nbformat": 4,
 "nbformat_minor": 0
}
