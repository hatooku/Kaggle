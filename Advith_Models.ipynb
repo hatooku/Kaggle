{
 "cells": [
  {
   "cell_type": "code",
   "execution_count": 5,
   "metadata": {
    "collapsed": false
   },
   "outputs": [
    {
     "name": "stdout",
     "output_type": "stream",
     "text": [
      "hinge, l2: 0.63126\n",
      "hinge, l1: 0.62172\n",
      "hinge, elasticnet: 0.64678\n",
      "log, l2: 0.61337\n",
      "log, l1: 0.63842\n",
      "log, elasticnet: 0.64320\n",
      "modified_huber, l2: 0.57637\n",
      "modified_huber, l1: 0.65155\n",
      "modified_huber, elasticnet: 0.60143\n"
     ]
    }
   ],
   "source": [
    "import numpy as np\n",
    "from sklearn.linear_model import SGDClassifier \n",
    "\n",
    "# CONSTANTS\n",
    "LOSSES = [\"hinge\", \"log\", \"modified_huber\"]\n",
    "PENALTIES = [\"l2\", \"l1\", \"elasticnet\"]\n",
    "TRAINING = 3351\n",
    "RUNS = 3000\n",
    "\n",
    "data = np.loadtxt(\"training_data.txt\", delimiter=\"|\", skiprows=1)\n",
    "trainingX = data[0:TRAINING, 0:-1]\n",
    "trainingY = data[0:TRAINING, -1]\n",
    "\n",
    "testX = data[TRAINING:, 0:-1]\n",
    "testY = data[TRAINING:, -1]\n",
    "\n",
    "# Error function as a fraction\n",
    "def erf(a1, a2):\n",
    "    total = 0\n",
    "    for x in range(len(a1)):\n",
    "        if a1[x] == a2[x]:\n",
    "            total += 1\n",
    "    return float(total)/len(a1)\n",
    "\n",
    "# Loss and penalty terms\n",
    "def res(l, p, runs):\n",
    "    clf = SGDClassifier(loss=l, penalty=p)\n",
    "    clf.fit(trainingX, trainingY)\n",
    "    error = 0\n",
    "    for x in range(runs):\n",
    "        error += erf(clf.predict(testX), testY)\n",
    "    return error/runs\n",
    "\n",
    "# Prints testing results\n",
    "def test(losses, penalties, runs):\n",
    "    for loss in losses:\n",
    "        for penalty in penalties:\n",
    "            val = res(loss, penalty, runs)\n",
    "            print \"%s, %s: %0.5f\" %(loss, penalty, val)\n",
    "\n",
    "test(LOSSES, PENALTIES, RUNS)\n"
   ]
  },
  {
   "cell_type": "code",
   "execution_count": null,
   "metadata": {
    "collapsed": false
   },
   "outputs": [],
   "source": [
    "# For testing for submission\n",
    "\n",
    "test_data = np.loadtxt(\"testing_data.txt\", delimiter=\"|\", skiprows=1)\n",
    "\n",
    "# Stochastic Gradient Descent\n",
    "l, p = \"modified_huber\", \"l2\" # Optimal choices\n",
    "clf_test = SGDClassifier(loss=l, penalty=p)\n",
    "clf_test.fit(trainingX, trainingY)\n",
    "prediction = clf.predict(test_data)\n",
    "\n",
    "f = open(\"results.csv\", \"w\")\n",
    "f.write(\"Id,Prediction\\n\")\n",
    "for x in range(len(prediction)):\n",
    "    f.write(str(x+1) + \",\" + str(int(prediction[x])) + \"\\n\")\n",
    "f.close()"
   ]
  },
  {
   "cell_type": "code",
   "execution_count": 6,
   "metadata": {
    "collapsed": false
   },
   "outputs": [
    {
     "ename": "ImportError",
     "evalue": "cannot import name Dense",
     "output_type": "error",
     "traceback": [
      "\u001b[0;31m---------------------------------------------------------------------------\u001b[0m",
      "\u001b[0;31mImportError\u001b[0m                               Traceback (most recent call last)",
      "\u001b[0;32m<ipython-input-6-e1ead23bf727>\u001b[0m in \u001b[0;36m<module>\u001b[0;34m()\u001b[0m\n\u001b[1;32m      1\u001b[0m \u001b[0;32mfrom\u001b[0m \u001b[0mkeras\u001b[0m\u001b[0;34m.\u001b[0m\u001b[0mmodels\u001b[0m \u001b[0;32mimport\u001b[0m \u001b[0mSequential\u001b[0m\u001b[0;34m\u001b[0m\u001b[0m\n\u001b[0;32m----> 2\u001b[0;31m \u001b[0;32mfrom\u001b[0m \u001b[0mkeras\u001b[0m\u001b[0;34m.\u001b[0m\u001b[0mlayers\u001b[0m \u001b[0;32mimport\u001b[0m \u001b[0mDense\u001b[0m\u001b[0;34m,\u001b[0m \u001b[0mDropout\u001b[0m\u001b[0;34m,\u001b[0m \u001b[0mActivation\u001b[0m\u001b[0;34m\u001b[0m\u001b[0m\n\u001b[0m\u001b[1;32m      3\u001b[0m \u001b[0;32mfrom\u001b[0m \u001b[0mkeras\u001b[0m\u001b[0;34m.\u001b[0m\u001b[0moptimizers\u001b[0m \u001b[0;32mimport\u001b[0m \u001b[0mSGD\u001b[0m\u001b[0;34m\u001b[0m\u001b[0m\n\u001b[1;32m      4\u001b[0m \u001b[0;32mimport\u001b[0m \u001b[0mnumpy\u001b[0m \u001b[0;32mas\u001b[0m \u001b[0mnp\u001b[0m\u001b[0;34m\u001b[0m\u001b[0m\n\u001b[1;32m      5\u001b[0m \u001b[0;34m\u001b[0m\u001b[0m\n",
      "\u001b[0;31mImportError\u001b[0m: cannot import name Dense"
     ]
    }
   ],
   "source": [
    "from keras.models import Sequential\n",
    "from keras.layers import Dense, Dropout, Activation\n",
    "from keras.optimizers import SGD\n",
    "import numpy as np\n",
    "\n",
    "# CONSTANTS\n",
    "TRAINING = 3351\n",
    "RUNS = 3000\n",
    "\n",
    "data = np.loadtxt(\"training_data.txt\", delimiter=\"|\", skiprows=1)\n",
    "trainingX = data[0:TRAINING, 0:-1]\n",
    "trainingY = data[0:TRAINING, -1]\n",
    "\n",
    "testX = data[TRAINING:, 0:-1]\n",
    "testY = data[TRAINING:, -1]\n",
    "\n",
    "\n",
    "model = Sequential()\n",
    "model.add(Dense(64, input_dim=20, init='uniform', activation='relu'))\n",
    "model.add(Dropout(0.5))\n",
    "model.add(Dense(64, activation='relu'))\n",
    "model.add(Dropout(0.5))\n",
    "model.add(Dense(1, activation='sigmoid'))\n",
    "\n",
    "# \"class_mode\" defaults to \"categorical\". For correctly displaying accuracy\n",
    "# in a binary classification problem, it should be set to \"binary\".\n",
    "model.compile(loss='binary_crossentropy',\n",
    "              optimizer='rmsprop',\n",
    "              class_mode='binary')\n",
    "\n",
    "model.fit(trainingX, trainingY,\n",
    "          nb_epoch=20,\n",
    "          batch_size=16,\n",
    "          show_accuracy=True)\n",
    "score = model.evaluate(testX, testY, batch_size=16)"
   ]
  },
  {
   "cell_type": "code",
   "execution_count": 7,
   "metadata": {
    "collapsed": true
   },
   "outputs": [],
   "source": [
    "from keras.models import Sequential"
   ]
  },
  {
   "cell_type": "code",
   "execution_count": null,
   "metadata": {
    "collapsed": true
   },
   "outputs": [],
   "source": []
  }
 ],
 "metadata": {
  "kernelspec": {
   "display_name": "Python 2",
   "language": "python",
   "name": "python2"
  },
  "language_info": {
   "codemirror_mode": {
    "name": "ipython",
    "version": 2
   },
   "file_extension": ".py",
   "mimetype": "text/x-python",
   "name": "python",
   "nbconvert_exporter": "python",
   "pygments_lexer": "ipython2",
   "version": "2.7.6"
  }
 },
 "nbformat": 4,
 "nbformat_minor": 0
}
