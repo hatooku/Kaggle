{
 "cells": [
  {
   "cell_type": "code",
   "execution_count": 23,
   "metadata": {
    "collapsed": false
   },
   "outputs": [
    {
     "name": "stdout",
     "output_type": "stream",
     "text": [
      "0.606391925988\n"
     ]
    }
   ],
   "source": [
    "import numpy as np\n",
    "from sklearn.linear_model import SGDClassifier \n",
    "\n",
    "data = np.loadtxt(\"training_data.txt\", delimiter=\"|\", skiprows=1)\n",
    "trainingX = data[0:3000, 0:-1]\n",
    "trainingY = data[0:3000, -1]\n",
    "\n",
    "testX = data[3000:, 0:-1]\n",
    "testY = data[3000:, -1]\n",
    "\n",
    "# Error function as a fraction\n",
    "def erf(a1, a2):\n",
    "    total = 0\n",
    "    for x in range(len(a1)):\n",
    "        if a1[x] == a2[x]:\n",
    "            total += 1\n",
    "    return float(total)/len(a1)\n",
    "\n",
    "# Loss and penalty terms\n",
    "def test(l, p):\n",
    "    clf.SGDClassifier\n",
    "\n",
    "clf = SGDClassifier(loss=\"hinge\", penalty=\"l2\")\n",
    "clf.fit(trainingX, trainingY)\n",
    "print erf(clf.predict(testX), testY) # .625\n",
    "\n"
   ]
  },
  {
   "cell_type": "code",
   "execution_count": 4,
   "metadata": {
    "collapsed": true
   },
   "outputs": [],
   "source": [
    "# For testing for submission\n",
    "\n",
    "test_data = np.loadtxt(\"testing_data.txt\", delimiter=\"|\")\n",
    "\n"
   ]
  },
  {
   "cell_type": "code",
   "execution_count": null,
   "metadata": {
    "collapsed": true
   },
   "outputs": [],
   "source": []
  }
 ],
 "metadata": {
  "kernelspec": {
   "display_name": "Python 2",
   "language": "python",
   "name": "python2"
  },
  "language_info": {
   "codemirror_mode": {
    "name": "ipython",
    "version": 2
   },
   "file_extension": ".py",
   "mimetype": "text/x-python",
   "name": "python",
   "nbconvert_exporter": "python",
   "pygments_lexer": "ipython2",
   "version": "2.7.6"
  }
 },
 "nbformat": 4,
 "nbformat_minor": 0
}
